{
 "cells": [
  {
   "cell_type": "markdown",
   "metadata": {},
   "source": [
    "# THE GENE FINDER PROGRAM"
   ]
  },
  {
   "cell_type": "code",
   "execution_count": 6,
   "metadata": {},
   "outputs": [
    {
     "name": "stdout",
     "output_type": "stream",
     "text": [
      " Hello! \n",
      "  Welcome to The Gene Finder, your bioinformatics partner.\n",
      "  This program can:\n",
      "  *find the complementary nucleotide\n",
      "  *computes the reverse complementary sequence of DNA for the specfied DNA sequence\n",
      "  *transcribe DNA sequences\n",
      "  *computes the maximum length of the longest noncoding ORF i.e. shuffled from specified DNA\n",
      "  *translate genes to proteins\n",
      "            \n",
      "Let's get started!\n"
     ]
    },
    {
     "name": "stdin",
     "output_type": "stream",
     "text": [
      "Please enter the path of your fasta file:  /home/eanbit8/GeneFinder/data/X73525.fa\n"
     ]
    },
    {
     "name": "stdout",
     "output_type": "stream",
     "text": [
      "The fasta file X73525.fa has been successfully uploaded!\n",
      "\n",
      "                         menu\n",
      "                         a. Get the complementary nucleotide\n",
      "                         b. Get the reverse complementary sequence of DNA\n",
      "                         c. Find the rest_of_ORF\n",
      "                         d. Find all non-nested open reading frames\n",
      "                         e. Find all non-nested open reading frames in all 3 possible frames\n",
      "                         f. Find all non-nested open reading frames on both strands\n",
      "                         g. Find the longest ORF on both strands\n",
      "                         h. Compute the maximum length of the longest non-coding ORF\n",
      "                         i. Compute the Protein encoded by a sequence of DNA\n",
      "                         j. Find the amino acid sequences that are likely coded by the specified dna\n",
      "                         Q. Exit:\n",
      "\n",
      "                         \n"
     ]
    },
    {
     "name": "stdin",
     "output_type": "stream",
     "text": [
      "Please enter an option from the above menu:  v\n"
     ]
    },
    {
     "name": "stdout",
     "output_type": "stream",
     "text": [
      "Your option is not in our menu :(\n",
      "Please try again\n",
      "\n",
      "                         menu\n",
      "                         a. Get the complementary nucleotide\n",
      "                         b. Get the reverse complementary sequence of DNA\n",
      "                         c. Find the rest_of_ORF\n",
      "                         d. Find all non-nested open reading frames\n",
      "                         e. Find all non-nested open reading frames in all 3 possible frames\n",
      "                         f. Find all non-nested open reading frames on both strands\n",
      "                         g. Find the longest ORF on both strands\n",
      "                         h. Compute the maximum length of the longest non-coding ORF\n",
      "                         i. Compute the Protein encoded by a sequence of DNA\n",
      "                         j. Find the amino acid sequences that are likely coded by the specified dna\n",
      "                         Q. Exit:\n",
      "\n",
      "                         \n"
     ]
    },
    {
     "name": "stdin",
     "output_type": "stream",
     "text": [
      "Please enter an option from the above menu:  a\n",
      "Please enter a nucleotide:  c\n"
     ]
    },
    {
     "name": "stdout",
     "output_type": "stream",
     "text": [
      "The compliment of C is G\n",
      "\n",
      "                         menu\n",
      "                         a. Get the complementary nucleotide\n",
      "                         b. Get the reverse complementary sequence of DNA\n",
      "                         c. Find the rest_of_ORF\n",
      "                         d. Find all non-nested open reading frames\n",
      "                         e. Find all non-nested open reading frames in all 3 possible frames\n",
      "                         f. Find all non-nested open reading frames on both strands\n",
      "                         g. Find the longest ORF on both strands\n",
      "                         h. Compute the maximum length of the longest non-coding ORF\n",
      "                         i. Compute the Protein encoded by a sequence of DNA\n",
      "                         j. Find the amino acid sequences that are likely coded by the specified dna\n",
      "                         Q. Exit:\n",
      "\n",
      "                         \n"
     ]
    },
    {
     "name": "stdin",
     "output_type": "stream",
     "text": [
      "Please enter an option from the above menu:  q\n"
     ]
    },
    {
     "name": "stdout",
     "output_type": "stream",
     "text": [
      "Thank you for using GENEFINDER.\n",
      "Goodbye\n"
     ]
    }
   ],
   "source": [
    "import os\n",
    "import sys\n",
    "import gene_finder\n",
    "from gene_finder import get_complement, get_reverse_complement, rest_of_ORF, find_all_ORFs_oneframe, find_all_ORFs, find_all_ORFs_both_strands, longest_ORF, longest_ORF_noncoding, coding_strand_to_AA, gene_finder  \n",
    "from load import load_seq\n",
    "\n",
    "print(''' Hello! \n",
    "  Welcome to The Gene Finder, your bioinformatics partner.\n",
    "  This program can:\n",
    "  *find the complementary nucleotide\n",
    "  *computes the reverse complementary sequence of DNA for the specfied DNA sequence\n",
    "  *transcribe DNA sequences\n",
    "  *computes the maximum length of the longest noncoding ORF i.e. shuffled from specified DNA\n",
    "  *translate genes to proteins\n",
    "            ''')\n",
    "\n",
    "print(\"Let's get started!\")\n",
    "\n",
    "def validfilepath():\n",
    "    '''This function requires entering the File path and then it validates the existence\n",
    "    of the path and returns the path\n",
    "    '''\n",
    "    global filepath #make the filepath variable global as it will be used as input on loading fasta file\n",
    "    flag = True\n",
    "    while flag:\n",
    "        filepath = input(\"Please enter the path of your fasta file: \")\n",
    "        if os.path.exists(filepath) and os.path.isfile(filepath):\n",
    "            flag=False\n",
    "            print(\"The fasta file %s has been successfully uploaded!\" % filepath.split(\"/\")[-1])\n",
    "            return filepath\n",
    "        else:\n",
    "            print(\"Sorry you provided an invalid path\")\n",
    "validfilepath()          \n",
    "            \n",
    "            \n",
    "def MainMenu():\n",
    "    '''This function displays the menu to the gene finder program.\n",
    "    It requires entering the an optioon and then it performs the chosen function on the file.\n",
    "    '''\n",
    "    option = True\n",
    "    while option:\n",
    "        print('''\n",
    "                         menu\n",
    "                         a. Get the complementary nucleotide\n",
    "                         b. Get the reverse complementary sequence of DNA\n",
    "                         c. Find the rest_of_ORF\n",
    "                         d. Find all non-nested open reading frames\n",
    "                         e. Find all non-nested open reading frames in all 3 possible frames\n",
    "                         f. Find all non-nested open reading frames on both strands\n",
    "                         g. Find the longest ORF on both strands\n",
    "                         h. Compute the maximum length of the longest non-coding ORF\n",
    "                         i. Compute the Protein encoded by a sequence of DNA\n",
    "                         j. Find the amino acid sequences that are likely coded by the specified dna\n",
    "                         Q. Exit:\n",
    "\n",
    "                         ''')\n",
    "        option = (input(\"Please enter an option from the above menu: \")).upper()\n",
    "        dna = load_seq(filepath)\n",
    "        if option == \"A\":\n",
    "            nucleotide = input(\"Please enter a nucleotide: \")\n",
    "            print(get_complement(nucleotide))\n",
    "        elif option == \"B\":\n",
    "            print(get_reverse_complement(dna))\n",
    "        elif option == \"C\":\n",
    "            print(rest_of_ORF(dna))\n",
    "        elif option == \"D\":\n",
    "            print(find_all_ORFs_oneframe(dna))\n",
    "        elif option == \"E\":\n",
    "            print(find_all_ORFs(dna))\n",
    "        elif option == \"F\":\n",
    "            print(find_all_ORFs_both_strands(dna))\n",
    "        elif option == \"G\":\n",
    "            print(longest_ORF(dna))\n",
    "        elif option == \"H\":\n",
    "            num_trials = int(input(\"Please enter the number of shuffles: \"))\n",
    "            print(longest_ORF_noncoding(dna,num_trials))\n",
    "        elif option == \"i\":\n",
    "            print(coding_strand_to_AA(dna))\n",
    "        elif option == \"J\":\n",
    "            print(gene_finder(dna))  \n",
    "        elif option == \"Q\":\n",
    "            print('Thank you for using GENEFINDER.')\n",
    "            print('Goodbye')\n",
    "            option = None\n",
    "            sys.exit\n",
    "        else:\n",
    "            print(\"Your option is not in our menu :(\")\n",
    "            print(\"Please try again\")\n",
    "\n",
    "MainMenu()"
   ]
  },
  {
   "cell_type": "code",
   "execution_count": null,
   "metadata": {},
   "outputs": [],
   "source": []
  }
 ],
 "metadata": {
  "kernelspec": {
   "display_name": "Python 3",
   "language": "python",
   "name": "python3"
  },
  "language_info": {
   "codemirror_mode": {
    "name": "ipython",
    "version": 3
   },
   "file_extension": ".py",
   "mimetype": "text/x-python",
   "name": "python",
   "nbconvert_exporter": "python",
   "pygments_lexer": "ipython3",
   "version": "3.7.8"
  }
 },
 "nbformat": 4,
 "nbformat_minor": 4
}
